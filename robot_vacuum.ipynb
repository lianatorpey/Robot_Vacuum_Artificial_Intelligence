{
  "cells": [
    {
      "cell_type": "markdown",
      "metadata": {
        "id": "0FyddoM3jF_d"
      },
      "source": [
        "# SBU CSE 352 - HW 1 -  Intelligent Agents: Reflex-Based Agents for the Vacuum-cleaner World\n",
        "\n",
        "---\n",
        "\n",
        "All student names in group: [Liana Torpey, Blake Lewinksi]\n",
        "\n",
        "I understand that my submission needs to be my own group's work: [LGT, BCL]\n",
        "\n",
        "I understand that ChatGPT / Copilot / other AI tools are not allowed: [LGT, BCL]\n",
        "\n",
        "## Instructions\n",
        "\n",
        "Total Points: 100\n",
        "\n",
        "Complete this notebook. Use the provided notebook cells and insert additional code and markdown cells as needed. Only use standard packages (numpy, scipy, and built-in packages like random). Submit the completely rendered notebook as a HTML file.\n",
        "\n",
        "## Introduction\n",
        "\n",
        "In this assignment you will implement a simulator environment for an automatic vacuum cleaner robot, a set of different reflex-based agent programs, and perform a comparison study for cleaning a single room. Focus on the __cleaning phase__ which starts when the robot is activated and ends when the last dirty square in the room has been cleaned. Someone else will take care of the agent program needed to navigate back to the charging station after the room is clean.\n",
        "\n",
        "## PEAS description of the cleaning phase\n",
        "\n",
        "__Performance Measure:__ Each action costs 1 energy unit. The performance is measured as the sum of the energy units used to clean the whole room.\n",
        "\n",
        "__Environment:__ A room with $n \\times n$ squares where $n = 5$. Dirt is randomly placed on each square with probability $p = 0.2$. For simplicity, you can assume that the agent knows the size and the layout of the room (i.e., it knows $n$). To start, the agent is placed on a random square.\n",
        "\n",
        "__Actuators:__ The agent can clean the current square (action `suck`) or move to an adjacent square by going `north`, `east`, `south`, or `west`.\n",
        "\n",
        "__Sensors:__ Four bumper sensors, one for north, east, south, and west; a dirt sensor reporting dirt in the current square.  \n",
        "\n",
        "\n",
        "## The agent program for a simple randomized agent\n",
        "\n",
        "The agent program is a function that gets sensor information (the current percepts) as the arguments. The arguments are:\n",
        "\n",
        "* A dictionary with boolean entries for the for bumper sensors `north`, `east`, `west`, `south`. E.g., if the agent is on the north-west corner, `bumpers` will be `{\"north\" : True, \"east\" : False, \"south\" : False, \"west\" : True}`.\n",
        "* The dirt sensor produces a boolean.\n",
        "\n",
        "The agent returns the chosen action as a string.\n",
        "\n",
        "Here is an example implementation for the agent program of a simple randomized agent:  "
      ]
    },
    {
      "cell_type": "code",
      "execution_count": null,
      "metadata": {
        "id": "2fDxkbCajF_f"
      },
      "outputs": [],
      "source": [
        "import numpy as np\n",
        "\n",
        "actions = [\"north\", \"east\", \"west\", \"south\", \"suck\"]\n",
        "\n",
        "def simple_randomized_agent(bumpers, dirty):\n",
        "    return np.random.choice(actions)"
      ]
    },
    {
      "cell_type": "code",
      "execution_count": null,
      "metadata": {
        "id": "QrLrE1XPjF_g",
        "outputId": "388d1d33-0f24-4b36-912f-f8fff5fcb112",
        "colab": {
          "base_uri": "https://localhost:8080/",
          "height": 35
        }
      },
      "outputs": [
        {
          "output_type": "execute_result",
          "data": {
            "text/plain": [
              "'east'"
            ],
            "application/vnd.google.colaboratory.intrinsic+json": {
              "type": "string"
            }
          },
          "metadata": {},
          "execution_count": 3
        }
      ],
      "source": [
        "# define percepts (current location is NW corner and it is dirty)\n",
        "bumpers = {\"north\" : True, \"east\" : False, \"south\" : False, \"west\" : True}\n",
        "dirty = True\n",
        "\n",
        "# call agent program function with percepts and it returns an action\n",
        "simple_randomized_agent(bumpers, dirty)"
      ]
    },
    {
      "cell_type": "markdown",
      "metadata": {
        "id": "GB5AWgpmjF_g"
      },
      "source": [
        "__Note:__ This is not a rational intelligent agent. It ignores its sensors and may bump into a wall repeatedly or not clean a dirty square. You will be asked to implement rational agents below."
      ]
    },
    {
      "cell_type": "markdown",
      "metadata": {
        "id": "I_r7AxrIjF_g"
      },
      "source": [
        "## Simple environment example\n",
        "\n",
        "We implement a simple simulation environment that supplies the agent with its percepts.\n",
        "The simple environment is infinite in size (bumpers are always `False`) and every square is always dirty, even if the agent cleans it. The environment function returns a performance measure which is here the number of cleaned squares (since the room is infinite and all squares are constantly dirty, the agent can never clean the whole room as required in the PEAS description above). The energy budget of the agent is specified as `max_steps`."
      ]
    },
    {
      "cell_type": "code",
      "execution_count": null,
      "metadata": {
        "id": "OdiZBgUqjF_h"
      },
      "outputs": [],
      "source": [
        "def simple_environment(agent, max_steps, verbose = True):\n",
        "    num_cleaned = 0\n",
        "\n",
        "    for i in range(max_steps):\n",
        "        dirty = True\n",
        "        bumpers = {\"north\" : False, \"south\" : False, \"west\" : False, \"east\" : False}\n",
        "\n",
        "        action = agent(bumpers, dirty)\n",
        "        if (verbose): print(\"step\", i , \"- action:\", action)\n",
        "\n",
        "        if (action == \"suck\"):\n",
        "            num_cleaned = num_cleaned + 1\n",
        "\n",
        "    return num_cleaned\n",
        "\n"
      ]
    },
    {
      "cell_type": "markdown",
      "metadata": {
        "id": "Tdt7xvQkjF_h"
      },
      "source": [
        "Do one simulation run with a simple randomized agent that has enough energy for 20 steps."
      ]
    },
    {
      "cell_type": "code",
      "execution_count": null,
      "metadata": {
        "id": "YBwp8uTEjF_h",
        "outputId": "adcfe90f-2eab-44a7-f823-0828c817c792",
        "colab": {
          "base_uri": "https://localhost:8080/"
        }
      },
      "outputs": [
        {
          "output_type": "stream",
          "name": "stdout",
          "text": [
            "step 0 - action: south\n",
            "step 1 - action: suck\n",
            "step 2 - action: suck\n",
            "step 3 - action: north\n",
            "step 4 - action: east\n",
            "step 5 - action: east\n",
            "step 6 - action: south\n",
            "step 7 - action: east\n",
            "step 8 - action: south\n",
            "step 9 - action: north\n",
            "step 10 - action: north\n",
            "step 11 - action: east\n",
            "step 12 - action: suck\n",
            "step 13 - action: east\n",
            "step 14 - action: east\n",
            "step 15 - action: south\n",
            "step 16 - action: west\n",
            "step 17 - action: south\n",
            "step 18 - action: suck\n",
            "step 19 - action: suck\n"
          ]
        },
        {
          "output_type": "execute_result",
          "data": {
            "text/plain": [
              "5"
            ]
          },
          "metadata": {},
          "execution_count": 5
        }
      ],
      "source": [
        "simple_environment(simple_randomized_agent, max_steps = 20)"
      ]
    },
    {
      "cell_type": "markdown",
      "metadata": {
        "id": "G_qQj5brjF_i"
      },
      "source": [
        "# Tasks\n",
        "\n",
        "## General [10 Points]\n",
        "\n",
        "1. Your implementation can use libraries like math, numpy, scipy, but not libraries that implement intelligent agents or complete search algorithms. Try to keep the code simple! In this course, we want to learn about the algorithms and we often do not need to use object-oriented design.\n",
        "2. You notebook needs to be formatted professionally.\n",
        "    - Add additional markdown blocks for your description, comments in the code, add tables and use mathplotlib to produce charts where appropriate\n",
        "    - Do not show debugging output or include an excessive amount of output.\n",
        "    - Check that your PDF file is readable. For example, long lines are cut off in the PDF file. You don't have control over page breaks, so do not worry about these.\n",
        "3. Document your code. Add a short discussion of how your implementation works and your design choices.\n",
        "\n",
        "\n",
        "## Task 1: Implement a simulation environment [20 Points]\n",
        "\n",
        "The simple environment above is not very realistic. Your environment simulator needs to follow the PEAS description from above. It needs to:\n",
        "\n",
        "* Initialize the environment by storing the state of each square (clean/dirty) and making some dirty. ([Help with random numbers and arrays in Python](https://github.com/mhahsler/CS7320-AI/blob/master/HOWTOs/random_numbers_and_arrays.ipynb))\n",
        "* Keep track of the agent's position.\n",
        "* Call the agent function repeatedly and provide the agent function with the sensor inputs.  \n",
        "* React to the agent's actions. E.g, by removing dirt from a square or moving the agent around unless there is a wall in the way.\n",
        "* Keep track of the performance measure. That is, track the agent's actions until all dirty squares are clean and count the number of actions it takes the agent to complete the task.\n",
        "\n",
        "The easiest implementation for the environment is to hold an 2-dimensional array to represent if squares are clean or dirty and to call the agent function in a loop until all squares are clean or a predefined number of steps have been reached (i.e., the robot runs out of energy).\n",
        "\n",
        "The simulation environment should be a function like the `simple_environment()` and needs to work with the simple randomized agent program from above. **Use the same environment for all your agent implementations in the tasks below.**\n",
        "\n",
        "*Note on debugging:* Debugging is difficult. Make sure your environment prints enough information when you use `verbose = True`. Also, implementing a function that the environment can use to displays the room with dirt and the current position of the robot at every step is very useful.  "
      ]
    },
    {
      "cell_type": "code",
      "execution_count": null,
      "metadata": {
        "id": "f_a8GJKYjF_i"
      },
      "outputs": [],
      "source": [
        "# importing the necessary libraries\n",
        "import numpy as np # allows n-dimensional arrays: nxn room, n=5; monitors position\n",
        "import random as rand # initialize the environment: p(dirty) = 0.2, random start"
      ]
    },
    {
      "cell_type": "code",
      "source": [
        "# calibrate the robot bumpers\n",
        "def calibrate_sensors(row, col, n, bumpers) :\n",
        "  if row == 0 :\n",
        "    bumpers[\"north\"] = True\n",
        "  else :\n",
        "    bumpers[\"north\"] = False\n",
        "\n",
        "  if row == (n - 1):\n",
        "    bumpers[\"south\"] = True\n",
        "  else :\n",
        "    bumpers[\"south\"] = False\n",
        "\n",
        "  if col == 0 :\n",
        "    bumpers[\"west\"] = True\n",
        "  else :\n",
        "    bumpers[\"west\"] = False\n",
        "\n",
        "  if col == (n - 1):\n",
        "    bumpers [\"east\"] = True\n",
        "  else :\n",
        "    bumpers [\"east\"] = False"
      ],
      "metadata": {
        "id": "5hePsXitXiiV"
      },
      "execution_count": null,
      "outputs": []
    },
    {
      "cell_type": "code",
      "source": [
        "# n variable is attempt to make program dynamic for room size\n",
        "\n",
        "def update_environment(row_index, col_index, environment) : # Function for debugging purposes\n",
        "  if environment[row_index, col_index] == 1 : # square still needs to be cleaned but not\n",
        "    # reached only with randomized agent\n",
        "    return environment\n",
        "  environment[row_index, col_index] = 2 # indicates that robot has reached square\n",
        "\n",
        "  return environment\n",
        "\n",
        "def simulation_environment(agent, n, character, max_steps) : # simple environment referencing a randomized agent\n",
        "\n",
        "  if max_steps == 0 :\n",
        "    energy_life = (2 * n * n)\n",
        "  else :\n",
        "    energy_life = max_steps\n",
        "  # Worst case: every square in nxn room dirty; need >= nxn energy to clean every square\n",
        "  # Double nxn value because need nxn movements to navigate to every square\n",
        "\n",
        "  # Initialize the environment by storing the state of each square (clean/dirty) and making some dirty.\n",
        "  # Environment represented as ndarray\n",
        "  # 1 represents dirty, value used to set boolean value for dirty sensor\n",
        "  # Known n value used to set boolean values for bumper sensors\n",
        "  environment = np.random.choice([0, 1], size=(n,n), p=[0.8, 0.2]) # nxn\n",
        "\n",
        "  #initialize room state\n",
        "  sensors = {\"north\" : False, \"east\" : False, \"south\" : False, \"west\" : False} # sensors\n",
        "\n",
        "  # initiate the robot @ starting location\n",
        "  initial_square = np.random.choice(environment.size) # select random start position\n",
        "  row_index, col_index = np.unravel_index(initial_square, environment.shape) # index position\n",
        "  environment[row_index, col_index] = 2 # marks position of robot\n",
        "\n",
        "  calibrate_sensors(row_index, col_index, n, sensors)\n",
        "\n",
        "  energy_exerted = 0 # counts the number of actions it takes to clean room\n",
        "  dirty = False\n",
        "\n",
        "  # Offset position variables only used by Model-Reflex Agent\n",
        "  row = 0\n",
        "  col = 0\n",
        "\n",
        "  for unit in range(energy_life) :\n",
        "    # check dirty/clean sensor\n",
        "    if environment[row_index, col_index] == 1 : # simulates and sets dirty sensor\n",
        "      dirty = True\n",
        "\n",
        "    # Call the agent function repeatedly and provide the agent function with the sensor inputs.\n",
        "    if character == 's' : # call Simple Reflex Agent\n",
        "      action = agent(sensors, dirty)\n",
        "    elif character == 'm' : # call Model-Reflex Agent\n",
        "      '''\n",
        "      First call: row, col values arbitrary until Agent initializes itself\n",
        "      Modle agent determines inital position (assume inital position is (0,0))\n",
        "      \"row\" and \"col\" variable values represent offsets from initial position\n",
        "      \"row_index\" and \"col_index\" values are NOT used by any agent to make a decision\n",
        "      Index values are instead only used to print the updated environment, and calibrate the sensors\n",
        "      '''\n",
        "      action = agent(sensors, dirty, row, col, n)\n",
        "    else : # default to Random Agent\n",
        "      action = agent(sensors, dirty)\n",
        "\n",
        "    energy_exerted = energy_exerted + 1 # Keep track of the performance measure.\n",
        "\n",
        "    # React to the agent's actions\n",
        "    # Keep track of the agent's position - referenced by Model Agent only\n",
        "    # Random Agent - disregards position, Simple Agent - utilizes bumpers\n",
        "    if action == \"suck\" :\n",
        "        environment[row_index, col_index] = 3 # mark square clean\n",
        "        dirty = False # reset clean/dirty sensor\n",
        "    elif action == \"north\" :\n",
        "      if row_index == 0 : # can't move up\n",
        "        # Catching invalid case to prevent program crashing by random agent\n",
        "        # Counts attempted action as energy_exerted\n",
        "        continue\n",
        "      else :\n",
        "        row_index = row_index - 1\n",
        "        row = row + 1\n",
        "    elif action == \"east\" :\n",
        "      if col_index == (n - 1) : # can't move right\n",
        "        continue\n",
        "      else :\n",
        "        col_index = col_index + 1\n",
        "        col = col + 1\n",
        "    elif action == \"west\" :\n",
        "      if col_index == 0 : # can't move left\n",
        "        continue\n",
        "      else :\n",
        "        col_index = col_index - 1\n",
        "        col = col - 1\n",
        "    elif action == \"south\" :\n",
        "      if row_index == (n - 1): # can't move down\n",
        "        continue\n",
        "      else :\n",
        "        row = row - 1\n",
        "        row_index = row_index + 1\n",
        "\n",
        "    # recalibrate the robot sensors after movement to keep track of pattern\n",
        "    calibrate_sensors(row_index, col_index, n, sensors)\n",
        "\n",
        "    environment = update_environment(row_index, col_index, environment) # prints state of environment after movement\n",
        "\n",
        "    if energy_exerted == energy_life :\n",
        "      return energy_exerted\n",
        "\n",
        "    if action == \"finished\" :\n",
        "      return energy_exerted\n",
        "\n",
        "  return energy_exerted"
      ],
      "metadata": {
        "id": "gwxRKly9cINU"
      },
      "execution_count": null,
      "outputs": []
    },
    {
      "cell_type": "markdown",
      "metadata": {
        "id": "gXsl-EjMjF_j"
      },
      "source": [
        "## Task 2:  Implement a simple reflex agent [10 Points]\n",
        "\n",
        "The simple reflex agent randomly walks around but reacts to the bumper sensor by not bumping into the wall and to dirt with sucking. Implement the agent program as a function.\n",
        "\n",
        "_Note:_ Agents cannot directly use variable in the environment. They only gets the percepts as the arguments to the agent function."
      ]
    },
    {
      "cell_type": "code",
      "execution_count": null,
      "metadata": {
        "id": "Q0ddGaBNjF_j"
      },
      "outputs": [],
      "source": [
        "def simple_reflex_agent(bumpers, dirty): # only get precepts as argument\n",
        "  if dirty : # if the current square is dirty\n",
        "    return \"suck\"\n",
        "\n",
        "  # determine movements based on sensors\n",
        "  # in the environment - the sensors are recalibrated after every call to agent\n",
        "\n",
        "  movements = [\"north\", \"east\", \"south\", \"west\"]\n",
        "  if (bumpers[\"north\"] == False\n",
        "      and bumpers[\"east\"] == False\n",
        "      and bumpers[\"south\"] == False\n",
        "      and bumpers[\"west\"] == False) : # if in the middle of the room\n",
        "    return np.random.choice(movements) # moves in whatever direction\n",
        "\n",
        "  if bumpers[\"north\"] == True and bumpers[\"east\"] == True : # northeast corner\n",
        "    # move anywhere but north or east\n",
        "    choices = [\"south\", \"west\"]\n",
        "    return np.random.choice(choices)\n",
        "\n",
        "  if bumpers[\"south\"] == True and bumpers[\"east\"] == True : # southeast corner\n",
        "    # move anywhere but south or east\n",
        "    choices = [\"north\", \"west\"]\n",
        "    return np.random.choice(choices)\n",
        "\n",
        "  if bumpers[\"south\"] == True and bumpers[\"west\"] == True :# southwest corner\n",
        "    # move anywhere but south or west\n",
        "    choices = [\"north\", \"east\"]\n",
        "    return np.random.choice(choices)\n",
        "\n",
        "  if bumpers[\"north\"] == True and bumpers[\"west\"] == True : # northwest corner\n",
        "    # move anywhere but north or west\n",
        "    choices = [\"south\", \"east\"]\n",
        "    return np.random.choice(choices)\n",
        "\n",
        "  if bumpers[\"north\"] == True : # move anywhere but north\n",
        "    choices = [\"south\", \"east\", \"west\"]\n",
        "    return np.random.choice(choices)\n",
        "\n",
        "  if bumpers[\"east\"] == True : # move anywhere but east\n",
        "    choices = [\"south\", \"north\", \"west\"]\n",
        "    return np.random.choice(choices)\n",
        "\n",
        "  if bumpers[\"south\"] == True : # move anywhere but south\n",
        "    choices = [\"north\", \"east\", \"west\"]\n",
        "    return np.random.choice(choices)\n",
        "\n",
        "  if bumpers[\"west\"] == True : # move anywhere but west\n",
        "    choices = [\"south\", \"east\", \"north\"]\n",
        "    return np.random.choice(choices)"
      ]
    },
    {
      "cell_type": "markdown",
      "metadata": {
        "id": "M1q8qmwvjF_j"
      },
      "source": [
        "## Task 3: Implement a model-based reflex agent [20 Points]\n",
        "\n",
        "Model-based agents use a state to keep track of what they have done and perceived so far. Your agent needs to find out where it is located and then keep track of its current location. You also need a set of rules based on the state and the percepts to make sure that the agent will clean the whole room. For example, the agent can move to a corner to determine its location and then it can navigate through the whole room and clean dirty squares.\n",
        "\n",
        "Describe how you define the __agent state__ and how your agent works before implementing it. ([Help with implementing state information on Python](https://github.com/mhahsler/CS7320-AI/blob/master/HOWTOs/store_agent_state_information.ipynb))"
      ]
    },
    {
      "cell_type": "markdown",
      "source": [
        "DESCRIPTION OF AGENT STATE AND IMPLEMENTATION DESIGN:\n",
        "\n",
        "---\n",
        "**Agent State**: (what is described by the last received agent state event) The agent state recieved by the model-based reflex agent is its previous actions performed, its built in sensors (bumpers and if dirty), and its location offset based on it's original position asssumed to be (0,0). From this state information, the agent knows what to do so not to run into the walls, react to the dirty sensor correctly, what actions it performed previously, and the consequence of its change in position if the previous action is preserved.\n",
        "<br>\n",
        "\n",
        "**Agent Implementation**: The rules below are to implement a counterclockwise spiral to reach all the squares of the room. In high level, the robot first attempts to only use sensor bumper wall data and trace the boundary of the room; once the boundary is traced, the robot then relies on the previous action and if the next square, if the previous action is preserved, is already visited - the robot tries to preserve the previous action as far as possible.\n",
        "<br>\n",
        "MODEL AGENT KNOWLEDGE: The agent maintains two dictionaries. \"representation\"{} stores the coordinates of where the model agent has already visited. It is the model of the room that the agent maintains and can access to determine if it has already visited a square. \"stored_information\"{} stores string values of \"boundary_traced\" - if the robot has traced the boundary, because this determines if the returned actions are based on the sensors, or on the previous actions and where the robot has already been, \"prev_action\" stores what action the model just performed, \"before_suck\" stores the movement action the model performed before performing the suck action.\n",
        "<br>\n",
        "MAINTAINING MODEL REPRESENTATION OF WORLD STATE: The agent records its original position as (0,0)->(row, col) and all subsequent movements are based on offset values from where it originally started. These coordinate strings are stored in a representation{} dictionary to keep track if all the squares of the room are reached. A movement north - increments the row(x) value, south - decrements row(x) value, east - increments col(y) value, west - decrements col(y) value. This value is stored in the representation after the first occurrence of a south sensor bumper wall activation - in other words, if by default the agent is moving south to hit the south wall, these squares are not detected as reached (but they are still cleaned if dirty).\n",
        "<br>\n",
        "TRACING THE BOUNDARY: <BR>\n",
        "The model agent first attempts to trace the outer room boundary based on the wall bumper sensors. If the agent is against the north wall, it goes west; against the west wall, it goes south; against the south wall, it goes east; against the east wall, it goes north. However, if the agent randomly generates not against a wall, by default it moves south until it hits the south wall, where it then follows the rules listed above based on the wall bumper sensors.\n",
        "<br>\n",
        "The agent will trace the outer room boundary relying solely on the wall bumper sensors. The agent checks each time if the room boundary is traced by using its knowledge of its current location, relative to its original starting position, and where it will be next if the action returned by the wall sensor is returned again. Hence, if the robot is at (-1, 1)->(down one from origin, to the right one of origin) and the south sensor is activated, then it knows the action returned will be east (based on the above rules). Therefore, it knows that it's next position will be (-1,2); the agent then checks if this potentially new coordinate is in its representation already, and if it is, then it markes that the boundary has been traced and it executes to implement the spiral pattern.\n",
        "<br>\n",
        "SPIRAL PATTERN <BR>\n",
        "After the agent has traces its wall boundary using the sensors, it moves inwards to perform a counter clockwise spiral where it determines its next position based on its previous action performed and its knowledge of where it has already visited. The agent attempts to preserve and perform the previous action as long as possible, until it hits the event where if the previous action is performed for another iteration, then the next square will be a repeat. To move in: if the previous action east -> moves north and previous action is east, if previous action south -> moves east and previous action is south, if previous action north -> moves west and previous action is north, if previoius action west -> moves south and previous action is west. If the robot cannot move in the direction of the previous action because it would cause a repeat square of the room to be visited, then it follows the same rules as it did to trace the boundary: if previous is north -> move west, previous east -> move north, previous west -> move south, previous south -> move east.\n",
        "<br>\n",
        "The robot returns \"finished\" when all movements in every direction would cause an overlapp of the squares in the room."
      ],
      "metadata": {
        "id": "RM4NiKgXkUhN"
      }
    },
    {
      "cell_type": "code",
      "execution_count": null,
      "metadata": {
        "id": "wZqL8CCAjF_j"
      },
      "outputs": [],
      "source": [
        "# global variable for Model Reflex Agent\n",
        "representation = {} # model maintained by agent\n",
        "'''\n",
        "                   {key : value}\n",
        "  representation = {\"(row, col)\" : visited boolean}\n",
        "    The row and col values are the offset from the original random position\n",
        "    The original random position is (0,0)\n",
        "'''\n",
        "stored_information = {} # acts as memory of agent\n",
        "'''\n",
        "                       {key : value}\n",
        "  stored_information = {\"variable name\" : value }\n",
        "                      [\"boundary_traced\" : complete boolean]\n",
        "                      [\"decrement_value\" : 0]\n",
        "                      [\"prev_action\" : \"____\"]\n",
        "                      [\"before_suck\" : \"____\"]\n",
        "\n",
        "\n",
        "  n/e/s/w_bound -> mark True @ first sensor date True, if in corner cases:\n",
        "    (based on movements from corners)\n",
        "    NE -> north True, leave east\n",
        "    NW -> west True, leave north\n",
        "    SW -> south True, leave west\n",
        "    SE -> east True, leave south\n",
        "\n",
        "  boundary_traced -> mark True when all bounds hit, increment stored decrement value\n",
        "\n",
        "  decrement -> initialized at 0, increments every time a boundary traversal is closed\n",
        "\n",
        "  start -> counts for the decrement_value how many boundaries traced\n",
        "'''\n",
        "\n",
        "def set_up_memory() : # Stored Information\n",
        "  stored_information[\"boundary_traced\"] = False\n",
        "  stored_information[\"prev_action\"] = \"\"\n",
        "  stored_information[\"before_suck\"] = \"south\"\n",
        "\n",
        "def update_memory() :\n",
        "  return\n",
        "\n",
        "def update_representation(row, col) :\n",
        "  key_string = \"(\" + str(row) + \",\" + str(col) + \")\"\n",
        "  representation[key_string] = True\n",
        "\n",
        "'''\n",
        "  Rules if actual boundary not yet traversed: based on sensor data\n",
        "  (move down first if not at wall, else reference below)\n",
        "  FOLLOW PREVIOUS ACTION UNTIL A NEW WALL NOT YET REACHED HIT\n",
        "    1) \"east\" : True -> move up\n",
        "    2) \"north\" : True -> move left\n",
        "    3) \"west\" : True -> move down\n",
        "    4) \"south\" : True -> move right\n",
        "\n",
        "    if multiple sensors True (in one of four corners), base on cases:\n",
        "      NE -> move left\n",
        "      NW -> move down\n",
        "      SW -> move right\n",
        "      SE -> move up\n",
        "'''\n",
        "\n",
        "'''\n",
        "  Rules if actual wall boundary traced: based on stored information\n",
        "  EXECUTE BASED ON CONDITIONALS\n",
        "  remember: row and col values are offset values respective to initial position\n",
        "  if row < decrement_value\n",
        "    move up\n",
        "  if col <= decrement_value\n",
        "    move right\n",
        "  row >= n - 1 - decrement_value\n",
        "    move down\n",
        "  col > n - 1 - decrement_value\n",
        "    move left\n",
        "\n",
        "  agent knows finished cleaning entire room, when representation booleans all True\n",
        "'''\n",
        "\n",
        "def model_based_reflex_agent(sensors, dirty, row, col, n) :\n",
        "  if (row == 0 and col == 0) and stored_information == {} : # makes sure global variables are cleared at start\n",
        "    representation.clear()\n",
        "    stored_information.clear()\n",
        "\n",
        "  if stored_information == {} :\n",
        "    set_up_memory()\n",
        "\n",
        "  # Determines next locaiton is previous action preserved\n",
        "  row_temp = row\n",
        "  col_temp = col\n",
        "  if stored_information[\"prev_action\"] == \"north\" :\n",
        "    row_temp = row_temp + 1 # move up from original\n",
        "  if stored_information[\"prev_action\"] == \"east\" :\n",
        "    col_temp = col_temp + 1 # move right from original\n",
        "  if stored_information[\"prev_action\"] == \"south\" :\n",
        "    row_temp = row_temp - 1 # move down from original\n",
        "  if stored_information[\"prev_action\"] == \"west\" :\n",
        "    col_temp = col_temp - 1 # move left from original\n",
        "  cord_string = \"(\" + str(row) + \",\" + str(col) + \")\"\n",
        "  check_string = \"(\" + str(row_temp) + \",\" + str(col_temp) + \")\"\n",
        "\n",
        "  # Cleans current square\n",
        "  if dirty :\n",
        "    stored_information[\"before_suck\"] = stored_information[\"prev_action\"]\n",
        "    stored_information[\"prev_action\"] = \"suck\"\n",
        "    return \"suck\"\n",
        "\n",
        "  north_string = \"(\" + str(row+1) + \",\" + str(col) + \")\"\n",
        "  east_string = \"(\" + str(row) + \",\" + str(col+1) + \")\"\n",
        "  south_string = \"(\" + str(row-1) + \",\" + str(col) + \")\"\n",
        "  west_string = \"(\" + str(row) + \",\" + str(col-1) + \")\"\n",
        "  # Checks if room is technically clean\n",
        "  if (north_string in representation\n",
        "      and east_string in representation\n",
        "      and south_string in representation\n",
        "      and west_string in representation\n",
        "      ) :\n",
        "    return \"finished\"\n",
        "\n",
        "  # If next location already visited from previous action, and boundary not traced\n",
        "  # Then move inward for spiral; executed the next iteration after suck is performed.\n",
        "  if (check_string in representation\n",
        "      and not stored_information[\"prev_action\"] == \"suck\"\n",
        "      and stored_information[\"boundary_traced\"] == False\n",
        "      ) : # visited current square\n",
        "    stored_information[\"boundary_traced\"] = True\n",
        "\n",
        "    # based on sensor activate = note which sensor would return that previous actions\n",
        "    # then base new action based on if in four coners and to preserve counter clockwise spiral\n",
        "    if stored_information[\"prev_action\"] == \"north\" :\n",
        "      stored_information[\"prev_action\"] = \"north\"\n",
        "      return \"west\"\n",
        "\n",
        "    if stored_information[\"prev_action\"] == \"east\" :\n",
        "      stored_information[\"prev_action\"] = \"east\"\n",
        "      return \"north\"\n",
        "\n",
        "    if stored_information[\"prev_action\"] == \"south\" :\n",
        "      stored_information[\"prev_action\"] = \"south\"\n",
        "      return \"east\"\n",
        "\n",
        "    if stored_information[\"prev_action\"] == \"west\" :\n",
        "      stored_information[\"prev_action\"] = \"west\"\n",
        "      return \"south\"\n",
        "    # after boundary traced, relies on representation of previous states\n",
        "  else :\n",
        "    if stored_information[\"prev_action\"] == \"suck\" :\n",
        "      stored_information[\"prev_action\"] = stored_information[\"before_suck\"]\n",
        "    update_representation(row, col) # update tracking of visitation\n",
        "\n",
        "  if not stored_information[\"boundary_traced\"] : # Movement based on sensors\n",
        "    # Tracing the boundary of the room - using wall bumpers\n",
        "    # south sensor activated\n",
        "    if sensors[\"south\"] and not sensors[\"east\"] : # move down\n",
        "      stored_information[\"prev_action\"] = \"east\"\n",
        "      return \"east\"\n",
        "    if sensors[\"south\"] and sensors[\"east\"] : # southeast corner\n",
        "      stored_information[\"prev_action\"] = \"north\"\n",
        "      return \"north\"\n",
        "\n",
        "    # east sensor activated\n",
        "    if sensors[\"east\"] and not sensors[\"north\"] : # move right\n",
        "      stored_information[\"prev_action\"] = \"north\"\n",
        "      return \"north\"\n",
        "    if sensors[\"east\"] and sensors[\"north\"] : # northeast corner\n",
        "      stored_information[\"prev_action\"] = \"west\"\n",
        "      return \"west\"\n",
        "\n",
        "    # west sensor activated\n",
        "    if sensors[\"west\"] and not sensors[\"south\"] : # move left\n",
        "      stored_information[\"prev_action\"] = \"south\"\n",
        "      return \"south\"\n",
        "    if sensors[\"west\"] and sensors[\"south\"] : # southwest corner\n",
        "      stored_information[\"prev_action\"] = \"east\"\n",
        "      return \"east\"\n",
        "\n",
        "    # north sensor activated\n",
        "    if sensors[\"north\"] and not sensors[\"west\"] : # move up\n",
        "      stored_information[\"prev_action\"] = \"west\"\n",
        "      return \"west\"\n",
        "    if sensors[\"north\"] and sensors[\"west\"] : # northwest corner\n",
        "      stored_information[\"prev_action\"] = \"south\"\n",
        "      return \"south\"\n",
        "\n",
        "    if (not sensors[\"north\"]\n",
        "        and not sensors[\"east\"]\n",
        "        and not sensors[\"south\"]\n",
        "        and not sensors[\"west\"]) : # move down until hit south wall\n",
        "        if not sensors[\"south\"] : # don't store inner squares (simplifies spiral)\n",
        "          del representation[cord_string] # delete the movement from model for spiral pattern\n",
        "        return \"south\" # move south by default\n",
        "\n",
        "  else : # Movement based on prior knowledge - preserve last action until overlapp\n",
        "    if stored_information[\"prev_action\"] == \"suck\" :\n",
        "      stored_information[\"prev_action\"] = stored_information[\"before_suck\"]\n",
        "\n",
        "    if check_string in representation : # uses \"check string\" calculated based on previous actions\n",
        "      '''\n",
        "        agent relies on previous action to determine next action\n",
        "        if previous action cannot be continued because next square in that direction already visited\n",
        "        Next action will be to preserve the counterclockwise spiral pattern\n",
        "      '''\n",
        "      if stored_information[\"prev_action\"] == \"north\" :\n",
        "        stored_information[\"prev_action\"] = \"west\"\n",
        "        return \"west\"\n",
        "      if stored_information[\"prev_action\"] == \"east\" :\n",
        "        stored_information[\"prev_action\"] = \"north\"\n",
        "        return \"north\"\n",
        "      if stored_information[\"prev_action\"] == \"south\" :\n",
        "        stored_information[\"prev_action\"] = \"east\"\n",
        "        return \"east\"\n",
        "      if stored_information[\"prev_action\"] == \"west\" :\n",
        "        stored_information[\"prev_action\"] = \"south\"\n",
        "        return \"south\"\n",
        "    else : # preserve last action\n",
        "      return stored_information[\"prev_action\"]"
      ]
    },
    {
      "cell_type": "code",
      "source": [
        "# simulation_environment(agent = model_based_reflex_agent, n=5, character='m', max_steps=0)\n",
        "# simulation_environment(agent = simple_reflex_agent, n=5, character='', max_steps=0)\n",
        "# simulation_environment(agent = simple_randomized_agent, n=5, character='r', max_steps=0)"
      ],
      "metadata": {
        "id": "ZHG3Ll_yYP_c"
      },
      "execution_count": null,
      "outputs": []
    },
    {
      "cell_type": "markdown",
      "metadata": {
        "id": "Qi3JK-9hjF_k"
      },
      "source": [
        "## Task 4: Simulation study [30 Points]\n",
        "\n",
        "Compare the performance (the performance measure is defined in the PEAS description above) of the agents using  environments of different size. E.g., $5 \\times 5$, $10 \\times 10$ and\n",
        "$100 \\times 100$. Use 100 random runs for each with 100000 max steps. Present the results using tables and graphs. Discuss the differences between the agents.\n",
        "([Help with charts and tables in Python](https://github.com/mhahsler/CS7320-AI/blob/master/HOWTOs/charts_and_tables.ipynb))"
      ]
    },
    {
      "cell_type": "code",
      "source": [
        "import random\n",
        "import matplotlib.pyplot as plt\n",
        "import numpy as np\n",
        "\n",
        "def simulation():\n",
        "  n_values = random.sample(range(5, 16), 3)\n",
        "  initial_iterations = 100\n",
        "  functions = ['simple_randomized_agent', 'simple_reflex_agent', 'model_based_reflex_agent']\n",
        "  data = {n: {func: [] for func in functions} for n in n_values}\n",
        "\n",
        "  for n in n_values:\n",
        "      for i in range(initial_iterations):\n",
        "          representation.clear()\n",
        "          stored_information.clear()\n",
        "          data[n]['simple_randomized_agent'].append(simulation_environment(agent=simple_randomized_agent, n=n, character='r', max_steps=100000))\n",
        "          data[n]['simple_reflex_agent'].append(simulation_environment(agent=simple_reflex_agent, n=n, character='', max_steps=100000))\n",
        "          data[n]['model_based_reflex_agent'].append(simulation_environment(agent=model_based_reflex_agent, n=n, character='m', max_steps=100000))\n",
        "\n",
        "  # Scatterplot for model-based reflex agent data\n",
        "  for n in n_values:\n",
        "      plt.figure()\n",
        "      plt.title(f\"Scatterplot for Model Based Reflex Agent (n={n})\")\n",
        "      plt.xlabel(\"Iteration\")\n",
        "      plt.ylabel(\"Outcome\")\n",
        "      outcomes = data[n]['model_based_reflex_agent']\n",
        "      max_value_count = outcomes.count(100000)  # Count occurrences of the maximum value\n",
        "      filtered_outcomes = [outcome for outcome in outcomes if outcome != 100000]  # Filter out the maximum value\n",
        "\n",
        "      plt.scatter(range(1, len(filtered_outcomes) + 1), filtered_outcomes, alpha=0.5, label='Outcomes')\n",
        "\n",
        "      # Annotate the scatter plot with the count of the maximum value\n",
        "      plt.annotate(f'Max Value Count: {max_value_count}', xy=(0.5, 0.95), xycoords='axes fraction', ha='center', fontsize=10, color='red')\n",
        "\n",
        "      plt.legend()\n",
        "      plt.show()\n",
        "\n",
        "      # Table to summarize the data\n",
        "      print(\"Table summarizing data:\")\n",
        "      print(\"Rows = nxn size, Columns = Individual Agents\")\n",
        "      print(f\"n = {n}\")\n",
        "      print(\"Agent         |   Outcome\")\n",
        "      print(\"--------------------------\")\n",
        "      for func in functions:\n",
        "        outcomes = data[n][func]\n",
        "        if func == 'model_based_reflex_agent':\n",
        "            outcomes = [outcome for outcome in outcomes if outcome != 100000]  # Exclude the value 100000\n",
        "        mean_outcome = np.mean(outcomes)\n",
        "        print(f\"{func.ljust(15)}|   {mean_outcome}\")\n",
        "      print(\"\\n\")\n",
        "\n",
        "simulation()"
      ],
      "metadata": {
        "colab": {
          "base_uri": "https://localhost:8080/",
          "height": 1000
        },
        "id": "xD4iHzkYFL9g",
        "outputId": "9a030401-783b-4222-9279-9310195cf0a1"
      },
      "execution_count": null,
      "outputs": [
        {
          "output_type": "display_data",
          "data": {
            "text/plain": [
              "<Figure size 640x480 with 1 Axes>"
            ],
            "image/png": "[encoded data removed]"
          },
          "metadata": {}
        },
        {
          "output_type": "stream",
          "name": "stdout",
          "text": [
            "Table summarizing data:\n",
            "Rows = nxn size, Columns = Individual Agents\n",
            "n = 6\n",
            "Agent         |   Outcome\n",
            "--------------------------\n",
            "simple_randomized_agent|   100000.0\n",
            "simple_reflex_agent|   100000.0\n",
            "model_based_reflex_agent|   38.65263157894737\n",
            "\n",
            "\n"
          ]
        },
        {
          "output_type": "display_data",
          "data": {
            "text/plain": [
              "<Figure size 640x480 with 1 Axes>"
            ],
            "image/png": "[encoded data removed]"
          },
          "metadata": {}
        },
        {
          "output_type": "stream",
          "name": "stdout",
          "text": [
            "Table summarizing data:\n",
            "Rows = nxn size, Columns = Individual Agents\n",
            "n = 11\n",
            "Agent         |   Outcome\n",
            "--------------------------\n",
            "simple_randomized_agent|   100000.0\n",
            "simple_reflex_agent|   100000.0\n",
            "model_based_reflex_agent|   78.76041666666667\n",
            "\n",
            "\n"
          ]
        },
        {
          "output_type": "display_data",
          "data": {
            "text/plain": [
              "<Figure size 640x480 with 1 Axes>"
            ],
            "image/png": "[encoded data removed]"
          },
          "metadata": {}
        },
        {
          "output_type": "stream",
          "name": "stdout",
          "text": [
            "Table summarizing data:\n",
            "Rows = nxn size, Columns = Individual Agents\n",
            "n = 7\n",
            "Agent         |   Outcome\n",
            "--------------------------\n",
            "simple_randomized_agent|   100000.0\n",
            "simple_reflex_agent|   100000.0\n",
            "model_based_reflex_agent|   46.77906976744186\n",
            "\n",
            "\n"
          ]
        }
      ]
    },
    {
      "cell_type": "markdown",
      "metadata": {
        "id": "tlAtLmp6jF_k"
      },
      "source": [
        "Fill out the following table with the average performance measure for 100 random runs (you may also create this table with code):\n",
        "\n",
        "| Size     | Randomized Agent | Simple Reflex Agent | Model-based Reflex Agent |\n",
        "|----------|------------------|---------------------|--------------------------|\n",
        "| 5x5     | | | |\n",
        "| 10x10   | | | |\n",
        "| 100x100 | | | |\n",
        "\n",
        "Add charts to compare the performance of the different agents."
      ]
    },
    {
      "cell_type": "markdown",
      "source": [
        "The general trends discussed below based on the above graphical analysis representations: the model based reflex agent returns PEAS measure clustered around nxn and the simple reflex agent and the random reflex agent always returns the max PEAS measure.\n",
        "<br>\n",
        "I randomly selected an n value from 5 and 15 (since 16 is exclusive), and then for every n value I executed 100 iterations. For every iteration, for each reflex agent, the PEAS returned measure is stored in a data list. For all three agents, for each value of n, I generated a table where it returned the average PEAS measure by each of the agents. For the model based reflex agent I excluded the cases where the PEAS measure was equal to the max because I considered this an error case where the algorithm failes. In addition, for the model based agents only, I generated a scatter plot to show the distribution clustering where the PEAS measure returned clusters around nxn value. in each of the scatterplots, I exclude the cases where the max value of 100000 was returned, because I wanted to show the general pattern of the algorithm.  \n",
        "<br>\n",
        "The PEAS measure for the random reflex agent and for the simple reflex agent will always be the max at 100000. The random reflex agent returns a random action, and therefore may bump repeatedly into walls, and not clean squares that need to be cleaned/clean squares that need not be cleaned; per randomness, it does not execute based on any information. The simple reflex agent, doesn't bump into walls and cleans the correct squares based on the sensors; per its simplexity, it only executes based on the current precept values and does not store any state information. As a consequence, all iterations for every n value of these agent simulations, will always return the max number of steps - representing that the robot ran out of energy - because they have no way of knowing if they are done executing on cleaning the room. There is not logical reason to execute the simulations, because reasonably one can assert that the max value is the only value returned, since there is no stopping case. The simulation is essentially a recursive solution, but for the simple agent and the random agent the problem does not divide into smaller subproblems, because no information is stored.\n",
        "<br>\n",
        "This is supported by the 3 sets of graphical representations above, where the random reflex agent and the simple reflex agent only have a returned PEAS value at the max. Both agents have no way of determining whether the entire room has been cleaned, and therefore cannot terminate before the robot runs out of energy.\n",
        "<br>\n",
        "The model based reflex agent, stores state information, and maintains a representation of the room. As a result the PEAS measure limits to approximately n*n, whereas it points to the robot moving across every square of the room to make sure it is cleaning the entire room, and the extra action costs are from cleaning the dirty squares.\n",
        "<br>\n",
        "In conclusion, even though the model based reflex agent occassionally fails (as pointed to by the ocassional max return PEAS value), for the majority of the time is returns a PEAS value close to n*n - which makes sense because it shows that the robot has moved to every sqaure, and the extra indicates the robot cleaning the dirty squars. The scatterplot shows the distribution clustering around this n*n value showing that the model-based agent works best to optimize the movements through the room to reach every square but still clean the correct squares."
      ],
      "metadata": {
        "id": "H7vyzozlyno_"
      }
    },
    {
      "cell_type": "markdown",
      "metadata": {
        "id": "LVOWQhVOjF_k"
      },
      "source": [
        "## Task 5: Robustness of the agent implementations [10 Points]\n",
        "\n",
        "Describe how **your agent implementations** will perform\n",
        "\n",
        "* if it is put into a rectangular room with unknown size,\n",
        "* if the cleaning area can have an irregular shape (e.g., a hallway connecting two rooms), or\n",
        "* if the room contains obstacles (i.e., squares that it cannot pass through and trigger the bumper sensors)."
      ]
    },
    {
      "cell_type": "markdown",
      "source": [
        "RECTANGULAR ROOM UNKNOWN SIZE: Choose the model-based agent <BR>\n",
        "*Random Reflex Agent*: The agent will still return a PEAS measure of the max number of steps (per discussed above in the graphical analysis). It will still execute the same as when the size is known. The agent does not use any percept information, it randomly chooses its action in a nondeterministic way. <BR>\n",
        "*Simple Reflex Agent*: The agent will still return a PEAS measure of the max number of steps (per discussed above in the graphical analysis). It will still execute the same as when the size is known. The agent uses its sensors to not bump into walls and reacts to the dirty sensor and cleans a dirty square. So in a room of unknown size, it will still move around and not bump into the walls and react to the dirty square sensor correctly. <BR>\n",
        "*Model Reflex Agent*: The agent algorithm will still behave correctly, becasue the implementation does not assume anything about size and does not use the known n value to dictate its movements. The agent would simply move down until it hits the south bumper, and then it would move in a counter clockwise spiral pattern moving inwards after tracing it's outer wall boundaries. The agent maintains a representation of the squares in the room it has visited, and uses bumper sensors and previous action information and its known location offset from the original position to move around the entire room. <BR>"
      ],
      "metadata": {
        "id": "vodXkzNI7XUE"
      }
    },
    {
      "cell_type": "markdown",
      "source": [
        "CLEANING AREA IRREGULAR SHAPE: Choose the simple reflex agent <BR>\n",
        "*Random Reflex Agent*: This is the worst agent for this situation, it moves around randomly in a nondeterministic way where it does not react to any of the sensors correctly and has a higher chance than the other agents of returning an illegal movement action. <BR>\n",
        "*Simple Reflex Agent*: In this case, the simple reflex agent would work the best, because it would not get stuck in any weird configurations of the irregular shape. The agent would not hit any walls because it does not use any algorithm logic, it instead moves around so it doesn't perform an illegal movement action and it always reacts to the dirty sensor correctly. So even though it always returns the max PEAS value, or the max number of steps = max energy units, it has the better chance in all average cases, to clean most of the room and not get stuck. <BR>\n",
        "*Model Reflex Agent*: In the best case, the agent algorithm would make the irregular shape a rectangle and ignore the surrounding boundary that makes the room not a rectangle. In the worst case, it may also get stuck in a corner, where it doesn't think the boundary is traced, but every movement it attempts based on its sensors will return an invalid action; however, this attempted action would still use up an energy unit. In this case there is a higher probability chance that the agent will return the max PEAS measure because the agent will try and execute its rules that work for its implementation in a rectangular room, but this will not work if the irregular shape leads to the agent getting stuck. <BR>"
      ],
      "metadata": {
        "id": "UHlG4aSG7YDr"
      }
    },
    {
      "cell_type": "markdown",
      "source": [
        "CONTAINS OBSTACLES: choose the simple reflex agent <BR>\n",
        "*Random Reflex Agent*: This is still the worst agent, it moves around randomly, and now with introduced obstacles there is a higher chance that the returned action movement is illegal. <BR>\n",
        "*Simple Reflex Agent*: This performs the best, because it would avoid all the obstacles and still react correctly to the dirty squares. <BR>\n",
        "*Model Reflex Agent*: Once again, when the model does not correspond to the original model that the model reflex agent was based on, the agent does not know how to adjust its algorithm rules. <BR>"
      ],
      "metadata": {
        "id": "qGsvNb5j2pC8"
      }
    },
    {
      "cell_type": "markdown",
      "source": [
        "The above discussion on the performance of each agent in a novel situation, proves the important of the agent state and the model representation of the world for the model-based agent. The model based agent peformed the best when the room was most similar to the original world it was programmed for - a rectangular room of unknown size. However, when placed in a different world situation, the agent was not able to dynamically adjust its algorithm rules to avoid getting stuck in a position where it does not know what to do based on its previous knowledge of the percepts and the model representation."
      ],
      "metadata": {
        "id": "6jBhvnq78jaE"
      }
    },
    {
      "cell_type": "markdown",
      "source": [
        "\n",
        "\n",
        "---\n",
        "Assignment adapted from [Michael Hahsler](https://github.com/mhahsler/CS7320-AI) under [CC BY-SA](https://creativecommons.org/licenses/by-sa/4.0/deed.en) license.\n"
      ],
      "metadata": {
        "id": "w9DyCkSckcFB"
      }
    }
  ],
  "metadata": {
    "kernelspec": {
      "display_name": "Python 3 (ipykernel)",
      "language": "python",
      "name": "python3"
    },
    "language_info": {
      "codemirror_mode": {
        "name": "ipython",
        "version": 3
      },
      "file_extension": ".py",
      "mimetype": "text/x-python",
      "name": "python",
      "nbconvert_exporter": "python",
      "pygments_lexer": "ipython3",
      "version": "3.10.12"
    },
    "toc-autonumbering": false,
    "colab": {
      "provenance": []
    }
  },
  "nbformat": 4,
  "nbformat_minor": 0
}